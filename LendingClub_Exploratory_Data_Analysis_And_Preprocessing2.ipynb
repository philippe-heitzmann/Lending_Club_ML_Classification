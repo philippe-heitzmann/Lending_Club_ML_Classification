{
 "cells": [
  {
   "cell_type": "code",
   "execution_count": 1,
   "metadata": {},
   "outputs": [],
   "source": [
    "#importing required packages \n",
    "import pandas as pd \n",
    "import numpy as np\n",
    "import matplotlib.pyplot as plt\n",
    "from itertools import combinations \n",
    "from collections import defaultdict\n",
    "from scipy.stats import pearsonr, chi2_contingency\n",
    "from sklearn.feature_selection import RFECV\n",
    "from sklearn.model_selection import train_test_split\n",
    "from sklearn.model_selection import cross_val_score\n",
    "from sklearn.model_selection import GridSearchCV\n",
    "import datetime\n",
    "import time"
   ]
  },
  {
   "cell_type": "code",
   "execution_count": 136,
   "metadata": {},
   "outputs": [
    {
     "data": {
      "text/plain": [
       "(2260668, 83)"
      ]
     },
     "execution_count": 136,
     "metadata": {},
     "output_type": "execute_result"
    }
   ],
   "source": [
    "accepted_df.shape"
   ]
  },
  {
   "cell_type": "code",
   "execution_count": 82,
   "metadata": {
    "scrolled": true
   },
   "outputs": [
    {
     "name": "stderr",
     "output_type": "stream",
     "text": [
      "/Users/philippeheitzmann/opt/anaconda3/lib/python3.7/site-packages/IPython/core/interactiveshell.py:3072: DtypeWarning: Columns (0,19,49,59,118,129,130,131,134,135,136,139,145,146,147) have mixed types.Specify dtype option on import or set low_memory=False.\n",
      "  interactivity=interactivity, compiler=compiler, result=result)\n"
     ]
    }
   ],
   "source": [
    "#reading in our data\n",
    "accepted_df = pd.read_csv('accepted_2007_to_2018Q4.csv', sep = ',')"
   ]
  },
  {
   "cell_type": "code",
   "execution_count": 3,
   "metadata": {},
   "outputs": [],
   "source": [
    "#creating function to quickly get an idea of values that comprise feature \n",
    "def variable_expl(variable):\n",
    "    print(accepted_df[variable].value_counts())\n",
    "    print(' ')\n",
    "    print('Number of NA\\'s is:', accepted_df[variable].isna().sum())\n",
    "    print('Number of unique values is:', accepted_df[variable].nunique())\n",
    "    if accepted_df[variable].dtype == 'float64' or accepted_df[variable].dtype == 'int64':\n",
    "        print('Mean is:', np.mean(accepted_df[variable]))\n",
    "        print('Std.Dev is:', np.std(accepted_df[variable]))\n",
    "    else:\n",
    "        return False"
   ]
  },
  {
   "cell_type": "code",
   "execution_count": 4,
   "metadata": {},
   "outputs": [],
   "source": [
    "#creating function to return correlation value between two features \n",
    "def corr_value(variable1, variable2):\n",
    "    print(accepted_df[variable1].corr(accepted_df[variable2]))"
   ]
  },
  {
   "cell_type": "code",
   "execution_count": 5,
   "metadata": {},
   "outputs": [],
   "source": [
    "#creating a function that can print full series values in Jupyter notebook\n",
    "def print_full(x):\n",
    "    pd.set_option('display.max_rows', len(x))\n",
    "    print(x)\n",
    "    pd.reset_option('display.max_rows')"
   ]
  },
  {
   "cell_type": "code",
   "execution_count": 133,
   "metadata": {},
   "outputs": [],
   "source": [
    "#creating a function to return correlation values between numeric variables\n",
    "#num_feat2 needs to be instantiated in order for correlation to run\n",
    "from collections import defaultdict\n",
    "\n",
    "        \n",
    "def correlation(variable):\n",
    "    dict1 = defaultdict(int)\n",
    "    for x in accepted_df[num_feat2].columns.values:\n",
    "        corr1 = accepted_df[x].corr(accepted_df[variable])\n",
    "        dict1[x] = abs(corr1)\n",
    "    return sorted(dict1.items(), key = lambda x: x[1], reverse = True)"
   ]
  },
  {
   "cell_type": "code",
   "execution_count": 134,
   "metadata": {},
   "outputs": [
    {
     "data": {
      "text/plain": [
       "[('total_acc', 1.0),\n",
       " ('num_rev_accts', 0.7646128837158631),\n",
       " ('num_sats', 0.715618428099662),\n",
       " ('num_il_tl', 0.6898468290977386),\n",
       " ('num_bc_tl', 0.6286868747283412),\n",
       " ('num_op_rev_tl', 0.575339920133672),\n",
       " ('acc_open_past_24mths', 0.4339735461976328),\n",
       " ('total_il_high_credit_limit', 0.4270151149839923),\n",
       " ('num_rev_tl_bal_gt_0', 0.4183287417631669),\n",
       " ('num_bc_sats', 0.41412990941646977),\n",
       " ('open_act_il', 0.3990272798306095),\n",
       " ('mort_acc', 0.36787312666722655),\n",
       " ('open_il_24m', 0.35438332991276866),\n",
       " ('tot_hi_cred_lim', 0.34853855803193284),\n",
       " ('mo_sin_old_il_acct', 0.34116263231882193),\n",
       " ('num_tl_op_past_12m', 0.3337716208911677),\n",
       " ('total_rev_hi_lim', 0.3194265905229146),\n",
       " ('num_actv_bc_tl', 0.3148739896338451),\n",
       " ('open_rv_24m', 0.3121346755128122),\n",
       " ('total_bc_limit', 0.29388209525743186),\n",
       " ('total_cu_tl', 0.29359220984608253),\n",
       " ('mo_sin_old_rev_tl_op', 0.2807678195031766),\n",
       " ('open_acc_6m', 0.26025692201923833),\n",
       " ('open_il_12m', 0.258875201684099),\n",
       " ('open_rv_12m', 0.2481847183344556),\n",
       " ('bc_open_to_buy', 0.23875319287214536),\n",
       " ('mo_sin_rcnt_tl', 0.21583563700640346),\n",
       " ('inq_last_12m', 0.2153293633579607),\n",
       " ('revol_bal', 0.20472568642078662),\n",
       " ('mths_since_rcnt_il', 0.1965253639315774),\n",
       " ('total_rec_prncp', 0.18657861758021707),\n",
       " ('installment', 0.17834214348634664),\n",
       " ('inq_fi', 0.17226005712167258),\n",
       " ('mo_sin_rcnt_rev_tl_op', 0.1719898028801519),\n",
       " ('inq_last_6mths', 0.15485506845577715),\n",
       " ('dti', 0.14733462398099414),\n",
       " ('num_accts_ever_120_pd', 0.14704824657423882),\n",
       " ('max_bal_bc', 0.13667483682177947),\n",
       " ('last_pymnt_amnt', 0.13409091334154555),\n",
       " ('mths_since_recent_inq', 0.12877445247167624),\n",
       " ('mths_since_recent_bc', 0.12553869015436625),\n",
       " ('total_rec_int', 0.12084032785522186),\n",
       " ('delinq_2yrs', 0.11855423726443454),\n",
       " ('il_util', 0.11690296702947643),\n",
       " ('annual_inc', 0.11527101044100185),\n",
       " ('emp_length', 0.11015030741332255),\n",
       " ('term', 0.09574443468539873),\n",
       " ('bc_util', 0.06961011361522698),\n",
       " ('num_tl_90g_dpd_24m', 0.06868371471619654),\n",
       " ('percent_bc_gt_75', 0.056249663921384585),\n",
       " ('avg_cur_bal', 0.05436187123289206),\n",
       " ('last_fico_range_low', 0.05235480599505091),\n",
       " ('chargeoff_within_12_mths', 0.04099220053654135),\n",
       " ('int_rate', 0.04095126947378174),\n",
       " ('last_fico_range_high', 0.033834263454770634),\n",
       " ('acc_now_delinq', 0.025648511071923438),\n",
       " ('pub_rec_bankruptcies', 0.0229680069400014),\n",
       " ('pct_tl_nvr_dlq', 0.0211339679697278),\n",
       " ('num_tl_30dpd', 0.02044061541964524),\n",
       " ('issue_d_month_num', 0.016605297377470723),\n",
       " ('fico_range_high', 0.016191950592537818),\n",
       " ('tax_liens', 0.01510499619069354),\n",
       " ('loan_status', 0.0128589143557885),\n",
       " ('num_tl_120dpd_2m', 0.009607484291567011),\n",
       " ('all_util', 0.008436635714889663),\n",
       " ('total_rec_late_fee', 0.008360963816410414),\n",
       " ('out_prncp_inv', 0.007313520834739816),\n",
       " ('earliest_cr_line_month_num', 0.006643579458225222),\n",
       " ('tot_coll_amt', 0.00572607197837538),\n",
       " ('delinq_amnt', 0.005722698122530298),\n",
       " ('collections_12_mths_ex_med', 0.005667007308966586),\n",
       " ('pub_rec', 0.0038464794316833317)]"
      ]
     },
     "execution_count": 134,
     "metadata": {},
     "output_type": "execute_result"
    }
   ],
   "source": [
    "correlation('total_acc')"
   ]
  },
  {
   "cell_type": "code",
   "execution_count": 189,
   "metadata": {},
   "outputs": [
    {
     "data": {
      "text/plain": [
       "0          2015\n",
       "1          2015\n",
       "2          2015\n",
       "3          2015\n",
       "4          2015\n",
       "           ... \n",
       "2260694    2016\n",
       "2260695    2016\n",
       "2260696    2016\n",
       "2260697    2016\n",
       "2260698    2016\n",
       "Name: Year, Length: 2260668, dtype: int64"
      ]
     },
     "execution_count": 189,
     "metadata": {},
     "output_type": "execute_result"
    }
   ],
   "source": [
    "accepted_df['Year'] = pd.DatetimeIndex(accepted_df['issue_d_date']).year\n",
    "accepted_df['Year']"
   ]
  },
  {
   "cell_type": "code",
   "execution_count": 199,
   "metadata": {},
   "outputs": [
    {
     "name": "stdout",
     "output_type": "stream",
     "text": [
      "Year\n",
      "2012    172.045620\n",
      "2013    179.713131\n",
      "2014    185.748609\n",
      "2015    186.586697\n",
      "2018    174.638102\n",
      "Name: mo_sin_old_rev_tl_op, dtype: float64\n"
     ]
    }
   ],
   "source": [
    "#we can see that open_act_il is a variable introduced only in 2015, therefore mean impute previous years \n",
    "print_full(accepted_df.groupby(['Year'])['mo_sin_old_rev_tl_op'].mean())"
   ]
  },
  {
   "cell_type": "code",
   "execution_count": 207,
   "metadata": {},
   "outputs": [
    {
     "name": "stdout",
     "output_type": "stream",
     "text": [
      "3.0     276601\n",
      "2.0     262642\n",
      "4.0     216696\n",
      "1.0     149366\n",
      "5.0     146583\n",
      "6.0      92827\n",
      "7.0      55337\n",
      "8.0      32976\n",
      "0.0      29842\n",
      "9.0      19599\n",
      "10.0     11753\n",
      "11.0      7103\n",
      "12.0      4189\n",
      "13.0      2524\n",
      "14.0      1562\n",
      "15.0      1043\n",
      "16.0       597\n",
      "17.0       415\n",
      "18.0       256\n",
      "19.0       161\n",
      "20.0       100\n",
      "21.0        68\n",
      "22.0        54\n",
      "23.0        36\n",
      "24.0        26\n",
      "25.0        14\n",
      "26.0        10\n",
      "29.0         6\n",
      "27.0         6\n",
      "28.0         6\n",
      "48.0         2\n",
      "32.0         2\n",
      "30.0         2\n",
      "50.0         1\n",
      "45.0         1\n",
      "Name: num_actv_bc_tl, dtype: int64\n",
      " \n",
      "Number of NA's is: 27741\n",
      "Number of unique values is: 35\n",
      "Mean is: 3.685367942542171\n",
      "Std.Dev is: 2.2994420153686463\n"
     ]
    }
   ],
   "source": [
    "variable_expl('num_actv_bc_tl')"
   ]
  },
  {
   "cell_type": "code",
   "execution_count": 218,
   "metadata": {},
   "outputs": [
    {
     "name": "stdout",
     "output_type": "stream",
     "text": [
      "debt_consolidation    764119\n",
      "credit_card           328419\n",
      "home_improvement       81383\n",
      "other                  73489\n",
      "major_purchase         26588\n",
      "medical                14410\n",
      "small_business         12969\n",
      "car                    12228\n",
      "house                   8711\n",
      "moving                  7901\n",
      "vacation                7837\n",
      "wedding                 1348\n",
      "renewable_energy         744\n",
      "educational                1\n",
      "Name: purpose, dtype: int64\n",
      " \n",
      "Number of NA's is: 0\n",
      "Number of unique values is: 14\n"
     ]
    },
    {
     "data": {
      "text/plain": [
       "False"
      ]
     },
     "execution_count": 218,
     "metadata": {},
     "output_type": "execute_result"
    }
   ],
   "source": [
    "variable_expl('purpose')"
   ]
  },
  {
   "cell_type": "code",
   "execution_count": 214,
   "metadata": {},
   "outputs": [
    {
     "name": "stderr",
     "output_type": "stream",
     "text": [
      "/Users/philippeheitzmann/opt/anaconda3/lib/python3.7/site-packages/ipykernel_launcher.py:17: SettingWithCopyWarning: \n",
      "A value is trying to be set on a copy of a slice from a DataFrame.\n",
      "Try using .loc[row_indexer,col_indexer] = value instead\n",
      "\n",
      "See the caveats in the documentation: https://pandas.pydata.org/pandas-docs/stable/user_guide/indexing.html#returning-a-view-versus-a-copy\n",
      "/Users/philippeheitzmann/opt/anaconda3/lib/python3.7/site-packages/ipykernel_launcher.py:22: SettingWithCopyWarning: \n",
      "A value is trying to be set on a copy of a slice from a DataFrame.\n",
      "Try using .loc[row_indexer,col_indexer] = value instead\n",
      "\n",
      "See the caveats in the documentation: https://pandas.pydata.org/pandas-docs/stable/user_guide/indexing.html#returning-a-view-versus-a-copy\n"
     ]
    }
   ],
   "source": [
    "#fillmean values \n",
    "fillmean = ['annual_inc','delinq_amnt','acc_now_delinq','delinq_2yrs','dti','revol_util','inq_last_6mths',\n",
    "           'open_acc','pub_rec','open_acc_6m','open_act_il','open_il_12m','open_il_24m','mths_since_rcnt_il',\n",
    "           'il_util','open_rv_12m','open_rv_24m','max_bal_bc','all_util','total_rev_hi_lim','inq_fi',\n",
    "           'total_cu_tl','inq_last_12m','acc_open_past_24mths','avg_cur_bal','bc_open_to_buy','bc_util',\n",
    "           'mo_sin_old_il_acct','mo_sin_old_rev_tl_op','mo_sin_rcnt_rev_tl_op','mo_sin_rcnt_tl','mths_since_recent_bc',\n",
    "           'mths_since_recent_inq','num_accts_ever_120_pd','num_actv_bc_tl','num_bc_sats','num_bc_tl','num_il_tl',\n",
    "           'num_op_rev_tl','num_rev_accts','num_rev_tl_bal_gt_0','num_sats','num_tl_120dpd_2m','num_tl_30dpd',\n",
    "           'num_tl_90g_dpd_24m','num_tl_op_past_12m','percent_bc_gt_75','tot_hi_cred_lim','total_bc_limit',\n",
    "           'total_il_high_credit_limit']\n",
    "#missing values here likely mean absence of the feature for that observation. \n",
    "fillzero = ['open_acc','pub_rec','inq_last_6mths','tax_liens','collections_12_mths_ex_med',\n",
    "           'chargeoff_within_12_mths','pub_rec_bankruptcies','emp_length','tot_coll_amt']\n",
    "def fillvars(accepted_df):\n",
    "    for x in fillmean:\n",
    "        try:\n",
    "            accepted_df[x] = accepted_df[x].fillna(accepted_df[x].mean())\n",
    "        except:\n",
    "            continue\n",
    "    for d in fillzero:\n",
    "        try:\n",
    "            accepted_df[d] = accepted_df[d].fillna(0)\n",
    "        except:\n",
    "            continue\n",
    "fillvars(accepted_df)\n",
    "    "
   ]
  },
  {
   "cell_type": "code",
   "execution_count": 128,
   "metadata": {
    "scrolled": false
   },
   "outputs": [
    {
     "name": "stdout",
     "output_type": "stream",
     "text": [
      "0.0     2243339\n",
      "1.0       15765\n",
      "2.0        1115\n",
      "3.0         186\n",
      "4.0          68\n",
      "5.0          22\n",
      "6.0          12\n",
      "7.0           8\n",
      "9.0           5\n",
      "8.0           2\n",
      "10.0          1\n",
      "Name: chargeoff_within_12_mths, dtype: int64\n",
      " \n",
      "Number of NA's is: 145\n",
      "Number of unique values is: 11\n",
      "Mean is: 0.008464412881443808\n",
      "Std.Dev is: 0.1048097659846299\n"
     ]
    }
   ],
   "source": [
    "variable_expl('chargeoff_within_12_mths')"
   ]
  },
  {
   "cell_type": "code",
   "execution_count": 87,
   "metadata": {},
   "outputs": [
    {
     "name": "stderr",
     "output_type": "stream",
     "text": [
      "/Users/philippeheitzmann/opt/anaconda3/lib/python3.7/site-packages/pandas/core/frame.py:3062: SettingWithCopyWarning: \n",
      "A value is trying to be set on a copy of a slice from a DataFrame.\n",
      "Try using .loc[row_indexer,col_indexer] = value instead\n",
      "\n",
      "See the caveats in the documentation: https://pandas.pydata.org/pandas-docs/stable/user_guide/indexing.html#returning-a-view-versus-a-copy\n",
      "  self[k1] = value[k2]\n",
      "/Users/philippeheitzmann/opt/anaconda3/lib/python3.7/site-packages/ipykernel_launcher.py:8: SettingWithCopyWarning: \n",
      "A value is trying to be set on a copy of a slice from a DataFrame.\n",
      "Try using .loc[row_indexer,col_indexer] = value instead\n",
      "\n",
      "See the caveats in the documentation: https://pandas.pydata.org/pandas-docs/stable/user_guide/indexing.html#returning-a-view-versus-a-copy\n",
      "  \n",
      "/Users/philippeheitzmann/opt/anaconda3/lib/python3.7/site-packages/ipykernel_launcher.py:9: SettingWithCopyWarning: \n",
      "A value is trying to be set on a copy of a slice from a DataFrame.\n",
      "Try using .loc[row_indexer,col_indexer] = value instead\n",
      "\n",
      "See the caveats in the documentation: https://pandas.pydata.org/pandas-docs/stable/user_guide/indexing.html#returning-a-view-versus-a-copy\n",
      "  if __name__ == '__main__':\n",
      "/Users/philippeheitzmann/opt/anaconda3/lib/python3.7/site-packages/pandas/core/generic.py:5159: SettingWithCopyWarning: \n",
      "A value is trying to be set on a copy of a slice from a DataFrame.\n",
      "Try using .loc[row_indexer,col_indexer] = value instead\n",
      "\n",
      "See the caveats in the documentation: https://pandas.pydata.org/pandas-docs/stable/user_guide/indexing.html#returning-a-view-versus-a-copy\n",
      "  self[name] = value\n"
     ]
    },
    {
     "data": {
      "text/plain": [
       "(2260668, 155)"
      ]
     },
     "execution_count": 87,
     "metadata": {},
     "output_type": "execute_result"
    }
   ],
   "source": [
    "#dropping observations with NA's for loan status\n",
    "accepted_df = accepted_df.dropna(subset = ['loan_status'])\n",
    "\n",
    "#creates issue_d_year and issue_d_month variables that will be later used to filter the dataframe \n",
    "\n",
    "def data_transformation(df):\n",
    "    df[['earliest_cr_line_month','earliest_cr_line_year']] = df['earliest_cr_line'].str.split('-', expand = True)\n",
    "    df['earliest_cr_line_year'] = df['earliest_cr_line_year'].fillna('2019')\n",
    "    df['earliest_cr_line_month'] = df['earliest_cr_line_month'].fillna('Jun')\n",
    "    df[['issue_d_month','issue_d_year']] = df['issue_d'].str.split('-', expand = True)\n",
    "    accepted_df.issue_d_year = accepted_df.issue_d_year.astype('int64')\n",
    "    return df.shape\n",
    "data_transformation(accepted_df)\n",
    "\n",
    "#filters the accepted_df dataframe to only include 2017, 2018 and 2019 values\n",
    "#not needed any longer\n",
    "accepted_df = accepted_df[accepted_df['issue_d_year'].isin([2012,2013,2014,2015,20162017,2018,2019])]"
   ]
  },
  {
   "cell_type": "code",
   "execution_count": null,
   "metadata": {
    "scrolled": false
   },
   "outputs": [],
   "source": [
    "#dropping irrelevant or missing data features from the start\n",
    "\n",
    "#dropping certain variables from the get-go in order to reduce processing time during multicollinearity analysis\n",
    "accepted_df = accepted_df.drop(['member_id','id','funded_amnt_inv','url','desc'], axis = 1)\n",
    "#looking at variables with highest NA counts\n",
    "accepted_df_nas = (accepted_df.isna().sum()/accepted_df.shape[0]).reset_index()\n",
    "accepted_df_nas.columns = ['Feature','Percent_Missing']\n",
    "accepted_df_nas = accepted_df_nas.sort_values(by = 'Percent_Missing')\n",
    "#getting index list of variables wiht > 50% missing values \n",
    "index1 = list(accepted_df_nas[accepted_df_nas['Percent_Missing'] > 0.5].index)\n",
    "#dropping the columns that have missing values > 0.5\n",
    "accepted_df.drop(accepted_df.columns[index1], axis = 1, inplace = True)\n",
    "#since policy_code has only one value, drop this column as well\n",
    "accepted_df = accepted_df.drop(['policy_code'], axis = 1)\n",
    "#zip_code variable has last two digits of zip_code missing, so we can safely drop this one \n",
    "accepted_df = accepted_df.drop(['zip_code'], axis = 1)\n",
    "#drop last_payment_d variable because this variable would not be accessible to investors and would introduce data leakage\n",
    "accepted_df.drop(['last_pymnt_d','collection_recovery_fee','recoveries'], axis = 1, inplace = True)\n",
    "#drop last_fico_range_low because of high correlation with last_fico_range_high\n",
    "accepted_df.drop(['last_fico_range_low'], axis = 1, inplace = True)\n",
    "#cleaning categorical variables \n",
    "#term should be converted to numeric\n",
    "accepted_df['term'] = accepted_df['term'].replace({' 36 months':36,' 60 months':60})\n",
    "#85% of last_credit_pull_d values are Mar-2019, so drop\n",
    "accepted_df.drop(['last_credit_pull_d'], axis = 1, inplace = True)\n",
    "#title and purpose variables are quasi-identical, so drop one\n",
    "accepted_df.drop(['title'], axis = 1, inplace = True)\n",
    "#creating a new variable to capture number of years of oldest credit line, defined as issue_d - earliest_cr_line\n",
    "#mapping date variables and converting to datetime objects \n",
    "month_dict = {'Jan':1,'Feb':2,'Mar':3,'Apr':4,'May':5,'Jun':6,'Jul':7,'Aug':8,'Sep':9,'Oct':10,'Nov':11,'Dec':12}\n",
    "accepted_df['issue_d_month_num'] = accepted_df['issue_d_month'][:] \n",
    "accepted_df['issue_d_month_num'] = accepted_df['issue_d_month_num'].replace(month_dict)\n",
    "accepted_df['issue_d_date'] = str('15/') + accepted_df['issue_d_month_num'].astype(str) + '/' + accepted_df['issue_d_year'].astype(str)\n",
    "accepted_df['issue_d_date'] = pd.to_datetime(accepted_df['issue_d_date'], infer_datetime_format=True)\n",
    "accepted_df.drop(['issue_d_month_num'], axis = 1, inplace = True)"
   ]
  },
  {
   "cell_type": "code",
   "execution_count": 91,
   "metadata": {},
   "outputs": [],
   "source": [
    "accepted_df['earliest_cr_line_month_num'] = accepted_df['earliest_cr_line_month'][:] \n",
    "accepted_df['earliest_cr_line_month_num'] = accepted_df['earliest_cr_line_month'].replace(month_dict)\n",
    "accepted_df['earliest_cr_line_date'] = str('15/') + accepted_df['earliest_cr_line_month_num'].astype(str) + '/' + accepted_df['earliest_cr_line_year'].astype(str)\n",
    "accepted_df.drop(['earliest_cr_line_month_num'], axis = 1, inplace = True)\n",
    "accepted_df['earliest_cr_line_date'] = pd.to_datetime(accepted_df['earliest_cr_line_date'], infer_datetime_format=True)\n",
    "#creating new variable capturing amount of years of oldest credit line \n",
    "accepted_df['earliest_credit_line_years'] = accepted_df['issue_d_date'] - accepted_df['earliest_cr_line_date'] \n",
    "#dropping debt_settlement_flag because this would introduce data leakage into the dataset\n",
    "#dropping 'earliest_cr_line_month','earliest_cr_line_year','issue_d_month' because these are now captured in earliest_credit_line_yearsa nd issue_d_date\n",
    "accepted_df.drop(['debt_settlement_flag', 'earliest_cr_line_month','earliest_cr_line_year','issue_d_month'], axis = 1, inplace = True)\n",
    "#dropping earliest_cr_line\n",
    "accepted_df.drop(['earliest_cr_line'], axis = 1, inplace = True)\n",
    "#dropping emp_title because mapping to general categories i.e. Director or President \n",
    "# would most likely be highly correlated with income and would be very computationally/time expensive\n",
    "accepted_df.drop(['emp_title'],axis = 1, inplace = True)\n",
    "#dropping issue_d_year because year already captured in issue_d_date\n",
    "accepted_df.drop(['issue_d_year'],axis = 1, inplace = True)\n",
    "#dropping issue_d because year already captured in issue_d_date\n",
    "accepted_df.drop(['issue_d'],axis = 1, inplace = True)\n",
    "#mapping 10+ years to 11 years and <1 years to 0 years in emp_length and converting this to a float\n",
    "accepted_df['emp_length'] = accepted_df['emp_length'].replace({'< 1 year': '0 years', '10+ years': '11 years'})\n",
    "accepted_df['emp_length'] = accepted_df['emp_length'].str.extract('(\\d+)').astype('float')\n",
    "#replacing values in application_type_variable\n",
    "accepted_df['application_type'] = accepted_df['application_type'].replace({'Individual':'Ind','Joint App':'Joint'}) \n",
    "#dropping pymnt_plan and hardship_flag because keeping these would constitute data leakage \n",
    "accepted_df.drop(['pymnt_plan','hardship_flag'],axis = 1, inplace = True)\n",
    "#mapping our dependent variable loan_status to 0/1 values\n",
    "accepted_df['loan_status'] = accepted_df['loan_status'].isin(['Fully Paid','Current','In Grace Period','Does not meet the credit policy. Status:Fully Paid']).astype('int64')\n",
    "accepted_df['loan_status']"
   ]
  },
  {
   "cell_type": "code",
   "execution_count": null,
   "metadata": {},
   "outputs": [],
   "source": [
    "#exploring pairs of highly correlated numeric variables\n",
    "comb_num_feat = list(combinations(num_feat2, 2))\n",
    "corrdict = defaultdict(int)\n",
    "for comb in comb_num_feat:\n",
    "    try:\n",
    "        corr = accepted_df[comb[0]].corr(accepted_df[comb[1]])\n",
    "        corrdict[comb] = abs(corr)\n",
    "    except:\n",
    "        continue\n",
    "\n",
    "#addressing multicollinearity in numeric variables\n",
    "#dropping numeric variables that are highly correlated with one another\n",
    "def variable_drop(corrdict, value):\n",
    "    filtered_dict = dict(filter(lambda x: x[1] > value, corrdict.items()))\n",
    "    dropped_variables = []\n",
    "    for k,v in filtered_dict.items():\n",
    "        if k != 'loan_status':\n",
    "            try:\n",
    "                accepted_df.drop(k[0], axis = 1, inplace = True)\n",
    "                print('Highly correlated pair:',k,v)\n",
    "                dropped_variables.append(k[0])\n",
    "            except:\n",
    "                print('Next')\n",
    "                continue\n",
    "    print(dropped_variables)\n",
    "variable_drop(corrdict, 0.85)"
   ]
  },
  {
   "cell_type": "code",
   "execution_count": 228,
   "metadata": {},
   "outputs": [
    {
     "name": "stdout",
     "output_type": "stream",
     "text": [
      "70\n"
     ]
    }
   ],
   "source": [
    "#creating list of all numeric variable names\n",
    "num_feat2 = []\n",
    "for x in accepted_df.columns.values:\n",
    "    if accepted_df[x].dtype == 'int64' or accepted_df[x].dtype == 'float64':\n",
    "        num_feat2.append(x)\n",
    "    else:\n",
    "        continue\n",
    "\n",
    "print(len(num_feat2))"
   ]
  },
  {
   "cell_type": "code",
   "execution_count": 103,
   "metadata": {},
   "outputs": [
    {
     "name": "stdout",
     "output_type": "stream",
     "text": [
      "8\n"
     ]
    }
   ],
   "source": [
    "#creating list of all categorical variable names\n",
    "cat_feat = []\n",
    "for var in accepted_df.columns:\n",
    "    if accepted_df[var].dtype == 'O':\n",
    "        cat_feat.append(var)\n",
    "    else:\n",
    "        continue\n",
    "        \n",
    "print(len(cat_feat))"
   ]
  },
  {
   "cell_type": "code",
   "execution_count": null,
   "metadata": {},
   "outputs": [],
   "source": [
    "#addressing multicollinearity in categorical variables\n",
    "#dropping categorical variables that are highly correlated with one another\n",
    "cat_feat = []\n",
    "for var in accepted_df.columns:\n",
    "    if accepted_df[var].dtype == 'O' and var != 'loan_status':\n",
    "        cat_feat.append(var)\n",
    "    else:\n",
    "        continue\n",
    "print('Num Features',len(cat_feat))\n",
    "try:\n",
    "    cat_feat.remove(0)\n",
    "except:\n",
    "    pass\n",
    "    \n",
    "comb_cat_feat = list(combinations(cat_feat, 2))\n",
    "print('Num combinations',len(comb_cat_feat))\n",
    "\n",
    "corrdict2 = defaultdict(int)\n",
    "for comb in comb_cat_feat:\n",
    "    table = pd.pivot_table(accepted_df, values='loan_amnt', index=comb[0], columns=comb[1], aggfunc='count').fillna(0)\n",
    "    corr = np.sqrt(chi2_contingency(table)[0] / (table.values.sum() * (np.min(table.shape) - 1) ) )\n",
    "    corrdict2[comb] = np.abs(corr)\n",
    "corrdict2\n",
    "\n",
    "#creating function to drop first feature in highly correlated categorical feature pairs \n",
    "#for value = 0.85, we are just dropping grade feature\n",
    "def drop_corr_cat(value):\n",
    "    for x in list(filter(lambda x: x[1] > value, corrdict2.items())):\n",
    "        try:\n",
    "            accepted_df.drop([x[0][0]], axis = 1, inplace = True)\n",
    "        except:\n",
    "            continue\n",
    "drop_corr_cat(0.85)"
   ]
  },
  {
   "cell_type": "code",
   "execution_count": null,
   "metadata": {
    "scrolled": true
   },
   "outputs": [],
   "source": [
    "from sklearn.impute import KNNImputer\n",
    "imputer = KNNImputer(n_neighbors = 1)\n",
    "test1 = imputer.fit_transform(accepted_df[['num_rev_accts','total_acc']])\n",
    "test1"
   ]
  },
  {
   "cell_type": "code",
   "execution_count": null,
   "metadata": {
    "scrolled": true
   },
   "outputs": [],
   "source": [
    "#come back to this later --last_credit_pull_d\n",
    "#missing value should be filled with mode of observations with same issue_d --use groupby\n",
    "accepted_df2 = accepted_df['last_credit_pull_d'].fillna(accepted_df.groupby(['issue_d']).transform(lambda x: x.mode().iloc[0]))\n",
    "print_full(pd.DataFrame(accepted_df2))\n",
    "\n",
    "accepted_df['last_credit_pull_d'] = accepted_df.groupby(['issue_d'])['last_credit_pull_d'].agg(pd.Series.mode)"
   ]
  },
  {
   "cell_type": "code",
   "execution_count": 230,
   "metadata": {
    "scrolled": true
   },
   "outputs": [
    {
     "name": "stdout",
     "output_type": "stream",
     "text": [
      "Empty DataFrame\n",
      "Columns: [Feature, NAs]\n",
      "Index: []\n"
     ]
    }
   ],
   "source": [
    "accepted_df_na2 = (accepted_df.isna().sum()).reset_index()\n",
    "accepted_df_na2.columns = ['Feature','NAs']\n",
    "print_full(accepted_df_na2[accepted_df_na2['NAs'] > 0 ].sort_values(by = ['NAs']))"
   ]
  },
  {
   "cell_type": "code",
   "execution_count": null,
   "metadata": {},
   "outputs": [],
   "source": [
    "#imputing missing values in certain columns with simple linear regression\n",
    "from sklearn.linear_model import LinearRegression\n",
    "regress_features = ['dti']\n",
    "lnreg = LinearRegression()\n",
    "for x in regress_features:\n",
    "    missing_index = accepted_df[x].isna().index\n",
    "    accepted_df[x] = "
   ]
  },
  {
   "cell_type": "code",
   "execution_count": null,
   "metadata": {
    "scrolled": true
   },
   "outputs": [],
   "source": [
    "from sklearn.experimental import enable_iterative_imputer\n",
    "from sklearn.impute import IterativeImputer\n",
    "imp = IterativeImputer(max_iter=1, random_state=0)\n",
    "imp.fit(accepted_df[num_feat])\n",
    "imp.transform(accepted_df['dti'])"
   ]
  },
  {
   "cell_type": "code",
   "execution_count": 17,
   "metadata": {},
   "outputs": [
    {
     "data": {
      "text/plain": [
       "array([[ 2.5,  2. ,  3. ],\n",
       "       [ 4. ,  5. ,  6. ],\n",
       "       [10. ,  5. ,  9. ]])"
      ]
     },
     "execution_count": 17,
     "metadata": {},
     "output_type": "execute_result"
    }
   ],
   "source": [
    "from sklearn.impute import SimpleImputer\n",
    "df1 = pd.DataFrame([[1,np.nan,3],[4,5,np.nan]], columns = ['a','b','c'])\n",
    "imp_mean = SimpleImputer(missing_values = np.nan, strategy = 'mean')\n",
    "imp_mean.fit(df1)\n",
    "X = [[np.nan, 2, 3], [4, np.nan, 6], [10, np.nan, 9]]\n",
    "imp_mean.transform(X)"
   ]
  },
  {
   "cell_type": "code",
   "execution_count": 141,
   "metadata": {
    "scrolled": true
   },
   "outputs": [
    {
     "data": {
      "text/plain": [
       "(0.0, 300000.0)"
      ]
     },
     "execution_count": 141,
     "metadata": {},
     "output_type": "execute_result"
    },
    {
     "data": {
      "image/png": "[encoded data removed]",
      "text/plain": [
       "<Figure size 432x288 with 1 Axes>"
      ]
     },
     "metadata": {
      "needs_background": "light"
     },
     "output_type": "display_data"
    }
   ],
   "source": [
    "#EDA on annual_inc\n",
    "import matplotlib.pyplot as plt\n",
    "plt.hist(accepted_df['annual_inc'][:200000],10000)\n",
    "plt.xlim(0,300000)"
   ]
  }
 ],
 "metadata": {
  "kernelspec": {
   "display_name": "Python 3",
   "language": "python",
   "name": "python3"
  },
  "language_info": {
   "codemirror_mode": {
    "name": "ipython",
    "version": 3
   },
   "file_extension": ".py",
   "mimetype": "text/x-python",
   "name": "python",
   "nbconvert_exporter": "python",
   "pygments_lexer": "ipython3",
   "version": "3.7.7"
  }
 },
 "nbformat": 4,
 "nbformat_minor": 4
}
